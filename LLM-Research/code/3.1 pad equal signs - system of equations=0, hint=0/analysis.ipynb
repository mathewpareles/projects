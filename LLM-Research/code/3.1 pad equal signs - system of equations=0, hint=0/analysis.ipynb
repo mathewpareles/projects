{
 "cells": [
  {
   "cell_type": "code",
   "execution_count": 1,
   "metadata": {},
   "outputs": [],
   "source": [
    "import matplotlib.pyplot as plt\n",
    "import pandas as pd\n",
    "import numpy as np\n",
    "import json\n",
    "\n",
    "import os\n",
    "import openai\n",
    "openai.api_key = os.getenv(\"OPENAI_API_KEY\")\n"
   ]
  },
  {
   "cell_type": "code",
   "execution_count": 2,
   "metadata": {},
   "outputs": [],
   "source": [
    "def getAccuracy(completion_eqns, expected_completion_eqns, eval_dict):\n",
    "    def LHSOfEqn(eqn_str):\n",
    "        first_equals = eqn_str.find('=')\n",
    "        LHS = eqn_str[0:first_equals].replace(' ', '')\n",
    "        return LHS\n",
    "\n",
    "    def RHSOfEqn(eqn_str):\n",
    "        last_equals = eqn_str.rfind('=')\n",
    "        RHS = eqn_str[last_equals+1:].replace(' ', '')\n",
    "        return RHS\n",
    "\n",
    "    '''\n",
    "    metric = value | verbatim\n",
    "    accuracyType = numCorrectOverTotal | firstIncorrectOverTotal\n",
    "\n",
    "    ((accuracy[type])[metric]) = a number\n",
    "\n",
    "    accuracy = {\n",
    "        numCorrectAcc: {\n",
    "            value: ...,\n",
    "            verbatim: ...,\n",
    "        },\n",
    "        firstIncorrectAcc: {\n",
    "            value: ...,\n",
    "            verbatim: ...,\n",
    "        }\n",
    "    }\n",
    "    '''\n",
    "    numCorrectAcc = {\"value\": 0, \"verbatim\": 0}\n",
    "    firstIncorrectAcc = {\"value\": 1, \"verbatim\": 1}\n",
    "    _firstIncorrectValNotFound = True\n",
    "    _firstIncorrectVerbNotFound = True\n",
    "\n",
    "    num_expected_eqns = len(expected_completion_eqns)\n",
    "    for i in range(num_expected_eqns):\n",
    "        expected_eqn = expected_completion_eqns[i]\n",
    "\n",
    "        try:\n",
    "            completion_eqn = completion_eqns[i]\n",
    "        except:\n",
    "            completion_eqn = ''\n",
    "\n",
    "        completion_LHS, completion_RHS = LHSOfEqn(\n",
    "            completion_eqn), RHSOfEqn(completion_eqn)\n",
    "\n",
    "        try:\n",
    "            equal_verbatim = (completion_eqn == expected_eqn)\n",
    "        except:\n",
    "            equal_verbatim = False\n",
    "\n",
    "        try:\n",
    "            equal_value = (eval_dict[completion_LHS]\n",
    "                           == int(completion_RHS[-2:]))\n",
    "        except:\n",
    "            equal_value = False\n",
    "\n",
    "        numCorrectAcc[\"value\"] += int(equal_value) / num_expected_eqns\n",
    "        numCorrectAcc[\"verbatim\"] += int(equal_verbatim) / num_expected_eqns\n",
    "\n",
    "        if (not equal_value) and _firstIncorrectValNotFound:\n",
    "            firstIncorrectAcc[\"value\"] = i / num_expected_eqns\n",
    "            _firstIncorrectValNotFound = False\n",
    "        if (not equal_verbatim) and _firstIncorrectVerbNotFound:\n",
    "            firstIncorrectAcc[\"verbatim\"] = i / num_expected_eqns\n",
    "            _firstIncorrectVerbNotFound = False\n",
    "\n",
    "    accuracy = {\n",
    "        \"numCorrectAcc\": numCorrectAcc,\n",
    "        \"firstIncorrectAcc\": firstIncorrectAcc,\n",
    "    }\n",
    "\n",
    "    return accuracy\n",
    "\n",
    "\n",
    "def averageOfAccuracies(accs):\n",
    "    acc_avg = {\n",
    "        \"numCorrectAcc\": {\n",
    "            \"value\": 0,\n",
    "            \"verbatim\": 0,\n",
    "        },\n",
    "        \"firstIncorrectAcc\": {\n",
    "            \"value\": 0,\n",
    "            'verbatim': 0,\n",
    "        }\n",
    "    }\n",
    "\n",
    "    for acc in accs:\n",
    "        for _type in acc.keys():\n",
    "            for _metric in acc[_type].keys():\n",
    "                acc_avg[_type][_metric] += acc[_type][_metric] / len(accs)\n",
    "\n",
    "    return acc_avg\n",
    "\n",
    "\n",
    "def strToEqns(text):\n",
    "    _completion_lines = text.split('\\n')\n",
    "    _completion_lines = [eqn.replace('\\n', '') for eqn in _completion_lines]\n",
    "    _eqn_idxs = [i for i, completion_line in enumerate(\n",
    "        _completion_lines) if '=' in completion_line]\n",
    "    eqns = [_completion_lines[eqn_idx] for eqn_idx in _eqn_idxs]\n",
    "    return eqns\n"
   ]
  },
  {
   "cell_type": "code",
   "execution_count": 3,
   "metadata": {},
   "outputs": [],
   "source": [
    "experiments = []\n",
    "experiments_config = []\n",
    "\n",
    "for hint_len in range(0, 12+1, 2):\n",
    "    experiments.append(pd.read_json(\n",
    "        rf'data/[20]{hint_len}_hints,12_var.json', orient='records'))\n",
    "    experiments_config.append(pd.read_json(\n",
    "        rf'data/[config][20]{hint_len}_hints,12_var.json', orient='records'))\n"
   ]
  },
  {
   "cell_type": "code",
   "execution_count": 4,
   "metadata": {},
   "outputs": [],
   "source": [
    "ACCS_OF_HINTLEN = {}  # HINTLEN_VS_ACC[len] = list of accuracies\n",
    "EXPECTED_ACC_OF_HINTLEN = {}\n",
    "\n",
    "num_experiments = len(experiments)\n",
    "for i_expt in range(num_experiments):\n",
    "\n",
    "    trials = experiments[i_expt]\n",
    "    config = experiments_config[i_expt]\n",
    "\n",
    "    HINTLEN = int(config.NUM_NAME_HINTS)\n",
    "    ACCS_OF_HINTLEN[HINTLEN] = []\n",
    "    EXPECTED_ACC_OF_HINTLEN[HINTLEN] = max(float((config.NUM_NAME_HINTS - config.NUM_EQN_HINTS) / (\n",
    "        config.NUM_VARS-config.NUM_EQN_HINTS)), 0)  # acc if hint correct and rest incorrect\n",
    "\n",
    "    num_trials = len(trials)\n",
    "    for i_trial in range(num_trials):\n",
    "        trial = trials.iloc[i_trial]\n",
    "\n",
    "        completion_text = trial.completion\n",
    "        expected_completion_text = trial.expected_completion\n",
    "        eval_dict = trial.eval_dict\n",
    "\n",
    "        completion_eqns = strToEqns(completion_text)\n",
    "        expected_completion_eqns = strToEqns(expected_completion_text)\n",
    "\n",
    "        ACC = getAccuracy(completion_eqns, expected_completion_eqns, eval_dict)\n",
    "\n",
    "        ACCS_OF_HINTLEN[HINTLEN].append(ACC)\n"
   ]
  },
  {
   "cell_type": "code",
   "execution_count": 5,
   "metadata": {},
   "outputs": [],
   "source": [
    "AVG_ACC_OF_HINTLEN = {}  # accuracy of hint length averaged over all trials\n",
    "\n",
    "for hintlen in ACCS_OF_HINTLEN.keys():\n",
    "    AVG_ACC_OF_HINTLEN[hintlen] = averageOfAccuracies(ACCS_OF_HINTLEN[hintlen])\n"
   ]
  },
  {
   "cell_type": "code",
   "execution_count": 6,
   "metadata": {},
   "outputs": [
    {
     "data": {
      "text/plain": [
       "{0: {'numCorrectAcc': {'value': 0.3950000000000001, 'verbatim': 0.055},\n",
       "  'firstIncorrectAcc': {'value': 0.12, 'verbatim': 0.03}},\n",
       " 2: {'numCorrectAcc': {'value': 0.4249999999999999,\n",
       "   'verbatim': 0.049999999999999996},\n",
       "  'firstIncorrectAcc': {'value': 0.115, 'verbatim': 0.030000000000000002}},\n",
       " 4: {'numCorrectAcc': {'value': 0.49999999999999994, 'verbatim': 0.125},\n",
       "  'firstIncorrectAcc': {'value': 0.19000000000000006, 'verbatim': 0.055}},\n",
       " 6: {'numCorrectAcc': {'value': 0.51, 'verbatim': 0.14500000000000002},\n",
       "  'firstIncorrectAcc': {'value': 0.34500000000000003, 'verbatim': 0.08}},\n",
       " 8: {'numCorrectAcc': {'value': 0.5950000000000001,\n",
       "   'verbatim': 0.16500000000000004},\n",
       "  'firstIncorrectAcc': {'value': 0.29500000000000004, 'verbatim': 0.065}},\n",
       " 10: {'numCorrectAcc': {'value': 0.595, 'verbatim': 0.24000000000000002},\n",
       "  'firstIncorrectAcc': {'value': 0.395, 'verbatim': 0.08000000000000002}},\n",
       " 12: {'numCorrectAcc': {'value': 0.51, 'verbatim': 0.18000000000000002},\n",
       "  'firstIncorrectAcc': {'value': 0.28500000000000003, 'verbatim': 0.045}}}"
      ]
     },
     "execution_count": 6,
     "metadata": {},
     "output_type": "execute_result"
    }
   ],
   "source": [
    "EXPECTED_ACC_OF_HINTLEN\n",
    "AVG_ACC_OF_HINTLEN"
   ]
  },
  {
   "cell_type": "code",
   "execution_count": null,
   "metadata": {},
   "outputs": [],
   "source": []
  },
  {
   "cell_type": "code",
   "execution_count": 7,
   "metadata": {},
   "outputs": [
    {
     "data": {
      "image/png": "[encoded data removed]",
      "text/plain": [
       "<Figure size 640x480 with 1 Axes>"
      ]
     },
     "metadata": {},
     "output_type": "display_data"
    }
   ],
   "source": [
    "ACC_TYPE = 'numCorrectAcc'  # 'numCorrectAcc' | 'firstIncorrectAcc'\n",
    "ACC_METRIC = 'verbatim'  # 'verbatim' | 'value'\n",
    "\n",
    "\n",
    "xs = AVG_ACC_OF_HINTLEN.keys()\n",
    "ys = [AVG_ACC_OF_HINTLEN[key][ACC_TYPE][ACC_METRIC] for key in AVG_ACC_OF_HINTLEN.keys()]\n",
    "\n",
    "plt.plot(xs,ys)\n",
    "\n",
    "ys_expected = EXPECTED_ACC_OF_HINTLEN.values()\n",
    "plt.plot(xs,ys_expected)\n",
    "\n",
    "\n",
    "plt.show()"
   ]
  },
  {
   "cell_type": "code",
   "execution_count": null,
   "metadata": {},
   "outputs": [],
   "source": []
  }
 ],
 "metadata": {
  "kernelspec": {
   "display_name": "Python 3.9.12 ('base')",
   "language": "python",
   "name": "python3"
  },
  "language_info": {
   "codemirror_mode": {
    "name": "ipython",
    "version": 3
   },
   "file_extension": ".py",
   "mimetype": "text/x-python",
   "name": "python",
   "nbconvert_exporter": "python",
   "pygments_lexer": "ipython3",
   "version": "3.9.12"
  },
  "vscode": {
   "interpreter": {
    "hash": "f70c7cf19e63b44dbf11c2b4e8fc69fc3cbf73130b035f79ab9654f5c8ee56fc"
   }
  }
 },
 "nbformat": 4,
 "nbformat_minor": 2
}
